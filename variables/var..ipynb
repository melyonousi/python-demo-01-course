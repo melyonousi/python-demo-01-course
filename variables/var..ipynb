{
 "cells": [
  {
   "cell_type": "code",
   "execution_count": 69,
   "metadata": {},
   "outputs": [
    {
     "name": "stdout",
     "output_type": "stream",
     "text": [
      "1\n"
     ]
    }
   ],
   "source": [
    "a = 1\n",
    "print(a)\n"
   ]
  },
  {
   "cell_type": "code",
   "execution_count": 70,
   "metadata": {},
   "outputs": [
    {
     "name": "stdout",
     "output_type": "stream",
     "text": [
      "a =  2\n",
      "b =  1\n"
     ]
    }
   ],
   "source": [
    "a = 1\n",
    "b = 2\n",
    "c = a\n",
    "a = b\n",
    "b = c\n",
    "print(\"a = \", a, end=\"\\n\")\n",
    "print(\"b = \", b)\n"
   ]
  },
  {
   "cell_type": "code",
   "execution_count": 71,
   "metadata": {},
   "outputs": [
    {
     "name": "stdout",
     "output_type": "stream",
     "text": [
      "26 years old\n"
     ]
    }
   ],
   "source": [
    "age = 2022 - 1996\n",
    "print(age, \"years old\")\n"
   ]
  },
  {
   "cell_type": "code",
   "execution_count": 72,
   "metadata": {},
   "outputs": [
    {
     "name": "stdout",
     "output_type": "stream",
     "text": [
      "Mohamed\n",
      "Haroun\n"
     ]
    }
   ],
   "source": [
    "name = \"Mohamed\"\n",
    "Name = \"Haroun\"\n",
    "\n",
    "print(name)\n",
    "print(Name)\n"
   ]
  },
  {
   "cell_type": "markdown",
   "metadata": {},
   "source": [
    "> Exercice\n",
    "    >> write a program that displays the value 3 to variable a, the value 5 to variable b and to exchange their values"
   ]
  },
  {
   "cell_type": "code",
   "execution_count": 73,
   "metadata": {},
   "outputs": [
    {
     "name": "stdout",
     "output_type": "stream",
     "text": [
      "a =  5\n",
      "b =  3\n"
     ]
    }
   ],
   "source": [
    "a = 3\n",
    "b = 5\n",
    "c = a\n",
    "a = b\n",
    "b = c\n",
    "print(\"a = \", a, end=\"\\n\")\n",
    "print(\"b = \", b)\n"
   ]
  },
  {
   "cell_type": "code",
   "execution_count": 74,
   "metadata": {},
   "outputs": [
    {
     "name": "stdout",
     "output_type": "stream",
     "text": [
      "c <class 'int'>\n",
      "f <class 'float'>\n",
      "f <class 'int'>\n"
     ]
    }
   ],
   "source": [
    "a = 5\n",
    "b = 3\n",
    "c = a + b\n",
    "d = b - a\n",
    "e = b * a\n",
    "f = b / a\n",
    "\n",
    "print(\"c\", type(c))\n",
    "print(\"f\", type(f))\n",
    "\n",
    "f = b\n",
    "print(\"f\", type(f))\n"
   ]
  },
  {
   "cell_type": "code",
   "execution_count": 75,
   "metadata": {},
   "outputs": [
    {
     "name": "stdout",
     "output_type": "stream",
     "text": [
      "MOHAMED\n",
      "el yonousi\n",
      "Mohamed El Yonousi\n"
     ]
    }
   ],
   "source": [
    "name = \"Mohamed\"\n",
    "family = \"EL YONOUSI\"\n",
    "\n",
    "print(name.upper())\n",
    "print(family.lower())\n",
    "\n",
    "full_name = name.lower() + \" \" + family.lower()\n",
    "print(full_name.title())\n"
   ]
  },
  {
   "cell_type": "code",
   "execution_count": 76,
   "metadata": {},
   "outputs": [
    {
     "name": "stdout",
     "output_type": "stream",
     "text": [
      "          any text          \n",
      "any text          \n",
      "          any text\n",
      "any text\n"
     ]
    }
   ],
   "source": [
    "text = \"          any text          \"\n",
    "\n",
    "print(text)\n",
    "print(text.lstrip())\n",
    "print(text.rstrip())\n",
    "print(text.strip())\n"
   ]
  },
  {
   "cell_type": "code",
   "execution_count": 77,
   "metadata": {},
   "outputs": [
    {
     "name": "stdout",
     "output_type": "stream",
     "text": [
      "Mohamed EL YONOUSI\n",
      "Mohamed \t EL YONOUSI\n",
      "Mohamed \n",
      " EL YONOUSI\n"
     ]
    }
   ],
   "source": [
    "name = \"Mohamed\"\n",
    "family = \"EL YONOUSI\"\n",
    "\n",
    "print(name, family)\n",
    "print(name, \"\\t\", family)\n",
    "print(name, \"\\n\", family)\n"
   ]
  },
  {
   "cell_type": "code",
   "execution_count": 78,
   "metadata": {},
   "outputs": [
    {
     "name": "stdout",
     "output_type": "stream",
     "text": [
      "If I write this blog without any pictures🖼️, same sized font🔤, no separations, no humor🤡, no anecdotes; in short no interest❌; I am technically writing it in vain. It’s not gonna get sold and I am gonna remain poor. POOR ME😭. I don’t know how much interesting I can make this blog but I hope it can help you.\n"
     ]
    }
   ],
   "source": [
    "desc = \"If I write this blog without any pictures🖼️, same sized font🔤, no separations, no humor🤡, no anecdotes; \\\n",
    "in short no interest❌; I am technically writing it in vain. It’s not gonna get sold and I am gonna remain poor. \\\n",
    "POOR ME😭. I don’t know how much interesting I can make this blog but I hope it can help you.\"\n",
    "\n",
    "print(desc)\n"
   ]
  },
  {
   "cell_type": "code",
   "execution_count": 79,
   "metadata": {},
   "outputs": [
    {
     "name": "stdout",
     "output_type": "stream",
     "text": [
      "If I write this blog without any pictures🖼️, same sized font🔤, no separations, no humor🤡, no anecdotes; \n",
      "in short no interest❌; I am technically writing it in vain. It’s not gonna get sold and I am gonna remain poor. \n",
      "POOR ME😭. I don’t know how much interesting I can make this blog but I hope it can help you.\n"
     ]
    }
   ],
   "source": [
    "desc = '''If I write this blog without any pictures🖼️, same sized font🔤, no separations, no humor🤡, no anecdotes; \n",
    "in short no interest❌; I am technically writing it in vain. It’s not gonna get sold and I am gonna remain poor. \n",
    "POOR ME😭. I don’t know how much interesting I can make this blog but I hope it can help you.'''\n",
    "\n",
    "print(desc)\n"
   ]
  },
  {
   "cell_type": "code",
   "execution_count": 80,
   "metadata": {},
   "outputs": [
    {
     "name": "stdout",
     "output_type": "stream",
     "text": [
      "hello+world!+from+Morocco\n",
      "hello+world!+from+Morocco.\n"
     ]
    }
   ],
   "source": [
    "\n",
    "print(\"hello\", \"world!\", \"from\", \"Morocco\", sep='+')\n",
    "\n",
    "# print with custom end line\n",
    "print(\"hello\", \"world!\", \"from\", \"Morocco\", sep='+', end=\".\\n\")\n"
   ]
  },
  {
   "cell_type": "code",
   "execution_count": 81,
   "metadata": {},
   "outputs": [
    {
     "name": "stdout",
     "output_type": "stream",
     "text": [
      "MOHAMED\n",
      "El Yonousi\n",
      "Mohamed El Yonousi\n",
      "Mohamed El Yonousi 26 years old\n"
     ]
    }
   ],
   "source": [
    "name = \"Mohamed\".lower()\n",
    "family = \"EL YONOUSI\".lower()\n",
    "age = 2022 - 1996\n",
    "\n",
    "print(name.upper())\n",
    "print(family.title())\n",
    "\n",
    "full_name = (name + \" \" + family).title()\n",
    "print(full_name)\n",
    "\n",
    "info = full_name + \" \" + str(age) + \" years old\"\n",
    "\n",
    "print(info)\n"
   ]
  }
 ],
 "metadata": {
  "kernelspec": {
   "display_name": "Python 3.10.4 64-bit",
   "language": "python",
   "name": "python3"
  },
  "language_info": {
   "codemirror_mode": {
    "name": "ipython",
    "version": 3
   },
   "file_extension": ".py",
   "mimetype": "text/x-python",
   "name": "python",
   "nbconvert_exporter": "python",
   "pygments_lexer": "ipython3",
   "version": "3.10.4"
  },
  "orig_nbformat": 4,
  "vscode": {
   "interpreter": {
    "hash": "1aaa4c0a7ae47a6be27a008c8243a275ca16fe34808101a702ca972a1e462bee"
   }
  }
 },
 "nbformat": 4,
 "nbformat_minor": 2
}
