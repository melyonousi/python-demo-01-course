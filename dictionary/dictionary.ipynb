{
 "cells": [
  {
   "cell_type": "markdown",
   "metadata": {},
   "source": [
    "> Dictionary"
   ]
  },
  {
   "cell_type": "code",
   "execution_count": 19,
   "metadata": {},
   "outputs": [
    {
     "name": "stdout",
     "output_type": "stream",
     "text": [
      "{<built-in function id>: 1, 'name': 'Mohamed EL YONOUSI', 'birthday': '05-03-1996', 'jobTitle': 'Founder', 'companyName': 'CASETRUE'}\n",
      "Mohamed EL YONOUSI\n",
      "<class 'dict'>\n"
     ]
    }
   ],
   "source": [
    "employees = {}\n",
    "employees[id] = 1\n",
    "employees[\"name\"] = \"Mohamed EL YONOUSI\"\n",
    "employees[\"birthday\"] = \"05-03-1996\"\n",
    "employees[\"jobTitle\"] = \"Founder\"\n",
    "employees[\"companyName\"] = \"CASETRUE\"\n",
    "\n",
    "print(employees)\n",
    "print(employees[\"name\"])\n",
    "print(type(employees))\n"
   ]
  },
  {
   "cell_type": "code",
   "execution_count": 20,
   "metadata": {},
   "outputs": [
    {
     "name": "stdout",
     "output_type": "stream",
     "text": [
      "{<built-in function id>: 1, 'name': 'Mohamed EL YONOUSI', 'birthday': '05-03-1996', 'jobTitle': 'Founder', 'companyName': 'CASETRUE'}\n",
      "<class 'dict'>\n"
     ]
    }
   ],
   "source": [
    "employees = dict()\n",
    "employees[id] = 1\n",
    "employees[\"name\"] = \"Mohamed EL YONOUSI\"\n",
    "employees[\"birthday\"] = \"05-03-1996\"\n",
    "employees[\"jobTitle\"] = \"Founder\"\n",
    "employees[\"companyName\"] = \"CASETRUE\"\n",
    "\n",
    "print(employees)\n",
    "print(type(employees))"
   ]
  },
  {
   "cell_type": "code",
   "execution_count": 21,
   "metadata": {},
   "outputs": [
    {
     "name": "stdout",
     "output_type": "stream",
     "text": [
      "{<built-in function id>: 1, 'name': 'Mohamed EL YONOUSI', 'birthday': '05-03-1996', 'jobTitle': 'Founder', 'companyName': 'CASETRUE'}\n",
      "<class 'dict'>\n"
     ]
    }
   ],
   "source": [
    "employees = {\n",
    "    id: 1,\n",
    "    \"name\": \"Mohamed EL YONOUSI\",\n",
    "    \"birthday\": \"05-03-1996\",\n",
    "    \"jobTitle\": \"Founder\",\n",
    "    \"companyName\": \"CASETRUE\"\n",
    "}\n",
    "print(employees)\n",
    "print(type(employees))\n"
   ]
  },
  {
   "cell_type": "code",
   "execution_count": 22,
   "metadata": {},
   "outputs": [
    {
     "name": "stdout",
     "output_type": "stream",
     "text": [
      "id : 1\n",
      "name : Mohamed EL YONOUSI\n",
      "birthday : 05-03-1996\n",
      "jobTitle : Founder\n",
      "companyName : CASETRUE\n"
     ]
    }
   ],
   "source": [
    "employees = {\n",
    "    \"id\": 1,\n",
    "    \"name\": \"Mohamed EL YONOUSI\",\n",
    "    \"birthday\": \"05-03-1996\",\n",
    "    \"jobTitle\": \"Founder\",\n",
    "    \"companyName\": \"CASETRUE\"\n",
    "}\n",
    "for key in employees:\n",
    "    print(key, \":\", employees[key])"
   ]
  },
  {
   "cell_type": "code",
   "execution_count": 23,
   "metadata": {},
   "outputs": [
    {
     "name": "stdout",
     "output_type": "stream",
     "text": [
      "id : 1\n",
      "name : Mohamed EL YONOUSI\n",
      "birthday : 05-03-1996\n",
      "jobTitle : Founder\n",
      "companyName : CASETRUE\n"
     ]
    }
   ],
   "source": [
    "employees = {\n",
    "    \"id\": 1,\n",
    "    \"name\": \"Mohamed EL YONOUSI\",\n",
    "    \"birthday\": \"05-03-1996\",\n",
    "    \"jobTitle\": \"Founder\",\n",
    "    \"companyName\": \"CASETRUE\"\n",
    "}\n",
    "for key, employee in employees.items():\n",
    "    print(key, \":\", employee)"
   ]
  },
  {
   "cell_type": "code",
   "execution_count": 24,
   "metadata": {},
   "outputs": [
    {
     "name": "stdout",
     "output_type": "stream",
     "text": [
      "1\n",
      "Mohamed EL YONOUSI\n",
      "05-03-1996\n",
      "Founder\n",
      "CASETRUE\n"
     ]
    }
   ],
   "source": [
    "employees = {\n",
    "    \"id\": 1,\n",
    "    \"name\": \"Mohamed EL YONOUSI\",\n",
    "    \"birthday\": \"05-03-1996\",\n",
    "    \"jobTitle\": \"Founder\",\n",
    "    \"companyName\": \"CASETRUE\"\n",
    "}\n",
    "for employee in employees.values():\n",
    "    print(employee)"
   ]
  },
  {
   "cell_type": "code",
   "execution_count": 25,
   "metadata": {},
   "outputs": [
    {
     "name": "stdout",
     "output_type": "stream",
     "text": [
      "Mohamed EL YONOUSI\n"
     ]
    }
   ],
   "source": [
    "employees = {\n",
    "    \"id\": 1,\n",
    "    \"name\": \"Mohamed EL YONOUSI\",\n",
    "    \"birthday\": \"05-03-1996\",\n",
    "    \"jobTitle\": \"Founder\",\n",
    "    \"companyName\": \"CASETRUE\"\n",
    "}\n",
    "if \"name\" in employees:\n",
    "    print(employees[\"name\"]);\n",
    "else:\n",
    "    print(\"No employees found\")\n"
   ]
  },
  {
   "cell_type": "code",
   "execution_count": 26,
   "metadata": {},
   "outputs": [
    {
     "name": "stdout",
     "output_type": "stream",
     "text": [
      "Mohamed EL YONOUSI\n"
     ]
    }
   ],
   "source": [
    "employees = {\n",
    "    \"id\": 1,\n",
    "    \"name\": \"Mohamed EL YONOUSI\",\n",
    "    \"birthday\": \"05-03-1996\",\n",
    "    \"jobTitle\": \"Founder\",\n",
    "    \"companyName\": \"CASETRUE\"\n",
    "}\n",
    "\n",
    "print(employees.get(\"name\", \"No employees found\"))"
   ]
  },
  {
   "cell_type": "code",
   "execution_count": 28,
   "metadata": {},
   "outputs": [
    {
     "name": "stdout",
     "output_type": "stream",
     "text": [
      "{'name': 'Mohamed EL YONOUSI', 'birthday': '05-03-1996', 'jobTitle': 'Founder', 'companyName': 'CASETRUE'}\n"
     ]
    }
   ],
   "source": [
    "employees = {\n",
    "    \"id\": 1,\n",
    "    \"name\": \"Mohamed EL YONOUSI\",\n",
    "    \"birthday\": \"05-03-1996\",\n",
    "    \"jobTitle\": \"Founder\",\n",
    "    \"companyName\": \"CASETRUE\"\n",
    "}\n",
    "\n",
    "del employees[\"id\"]\n",
    "\n",
    "print(employees)"
   ]
  },
  {
   "cell_type": "code",
   "execution_count": 30,
   "metadata": {},
   "outputs": [
    {
     "name": "stdout",
     "output_type": "stream",
     "text": [
      "{'id': 1, 'name': 'Mohamed EL YONOUSI', 'birthday': '05-03-1996', 'jobTitle': 'Founder', 'companyName': 'CASETRUE'}\n",
      "{'status': 'Active'}\n",
      "{'id': 1, 'name': 'Mohamed EL YONOUSI', 'birthday': '05-03-1996', 'jobTitle': 'Founder', 'companyName': 'CASETRUE', 'status': 'Active'}\n"
     ]
    }
   ],
   "source": [
    "employees1 = {\n",
    "    \"id\": 1,\n",
    "    \"name\": \"Mohamed EL YONOUSI\",\n",
    "    \"birthday\": \"05-03-1996\",\n",
    "    \"jobTitle\": \"Founder\",\n",
    "    \"companyName\": \"CASETRUE\"\n",
    "}\n",
    "\n",
    "employees2 = {\n",
    "    \"status\": \"Active\",\n",
    "}\n",
    "\n",
    "employees = employees1 | employees2\n",
    "print(employees1)\n",
    "print(employees2)\n",
    "print(employees)"
   ]
  },
  {
   "cell_type": "code",
   "execution_count": 31,
   "metadata": {},
   "outputs": [
    {
     "name": "stdout",
     "output_type": "stream",
     "text": [
      "{'id': 1, 'name': 'Mohamed EL YONOUSI', 'birthday': '05-03-1996', 'jobTitle': 'Founder', 'companyName': 'CASETRUE', 'status': 'Active'}\n",
      "{'status': 'Active'}\n"
     ]
    }
   ],
   "source": [
    "employees = {\n",
    "    \"id\": 1,\n",
    "    \"name\": \"Mohamed EL YONOUSI\",\n",
    "    \"birthday\": \"05-03-1996\",\n",
    "    \"jobTitle\": \"Founder\",\n",
    "    \"companyName\": \"CASETRUE\"\n",
    "}\n",
    "\n",
    "employees2 = {\n",
    "    \"status\": \"Active\",\n",
    "}\n",
    "\n",
    "employees.update(employees2)\n",
    "print(employees)\n",
    "print(employees2)"
   ]
  }
 ],
 "metadata": {
  "kernelspec": {
   "display_name": "Python 3.10.4 64-bit",
   "language": "python",
   "name": "python3"
  },
  "language_info": {
   "codemirror_mode": {
    "name": "ipython",
    "version": 3
   },
   "file_extension": ".py",
   "mimetype": "text/x-python",
   "name": "python",
   "nbconvert_exporter": "python",
   "pygments_lexer": "ipython3",
   "version": "3.10.4"
  },
  "orig_nbformat": 4,
  "vscode": {
   "interpreter": {
    "hash": "1aaa4c0a7ae47a6be27a008c8243a275ca16fe34808101a702ca972a1e462bee"
   }
  }
 },
 "nbformat": 4,
 "nbformat_minor": 2
}
