{
 "cells": [
  {
   "cell_type": "markdown",
   "metadata": {},
   "source": [
    "> what is a condition?"
   ]
  },
  {
   "cell_type": "code",
   "execution_count": 5,
   "metadata": {},
   "outputs": [
    {
     "name": "stdout",
     "output_type": "stream",
     "text": [
      "corona die\n"
     ]
    }
   ],
   "source": [
    "date = 2022\n",
    "\n",
    "# condion format in python\n",
    "if date == 2022:\n",
    "    print(\"corona die\")\n",
    "else:\n",
    "    print(\"corona still kill people\")"
   ]
  },
  {
   "cell_type": "code",
   "execution_count": 6,
   "metadata": {},
   "outputs": [
    {
     "name": "stdout",
     "output_type": "stream",
     "text": [
      "corona die\n"
     ]
    }
   ],
   "source": [
    "date = 2022\n",
    "\n",
    "# condion format in python\n",
    "if not date == 2022: # if date != 2022:\n",
    "    print(\"corona still kill people\")\n",
    "else:\n",
    "    print(\"corona die\")\n"
   ]
  },
  {
   "cell_type": "code",
   "execution_count": 22,
   "metadata": {},
   "outputs": [
    {
     "name": "stdout",
     "output_type": "stream",
     "text": [
      "7.142857142857143\n"
     ]
    }
   ],
   "source": [
    "nb1 = input(\"entre nb1 value: \".capitalize())\n",
    "nb2 = input(\"entre nb2 value: \".capitalize())\n",
    "\n",
    "if not nb2 == \"0\":\n",
    "    result = float(nb1) / float(nb2)\n",
    "    print(result)\n",
    "else:\n",
    "    print(\"nb1: \", nb1)\n",
    "    print(\"nb2: \", nb2)\n"
   ]
  },
  {
   "cell_type": "markdown",
   "metadata": {},
   "source": [
    "~~~python\n",
    "< lower\n",
    "> higher\n",
    "<= less or equal\n",
    ">= greater than or equal"
   ]
  },
  {
   "cell_type": "markdown",
   "metadata": {},
   "source": [
    "> Exercise \n",
    ">> write a program to solve a first degree equation\n",
    "$$Ax + B = 0$$\n",
    "\n",
    "$$A = 0 , B = 0: equation R$$\n",
    "$$A = 0 , B != 0: imposible$$\n",
    "$$A != 0: X = -B / A$$\n",
    "\n"
   ]
  },
  {
   "cell_type": "code",
   "execution_count": 27,
   "metadata": {},
   "outputs": [
    {
     "name": "stdout",
     "output_type": "stream",
     "text": [
      "x:  -0.5\n"
     ]
    }
   ],
   "source": [
    "a = int(input(\"enter A value: \").capitalize())\n",
    "b = int(input(\"enter B value: \").capitalize())\n",
    "\n",
    "if a == 0:\n",
    "    if b == 0:\n",
    "        print(\"equation R\")\n",
    "    else:\n",
    "        print(\"equation imposible\")\n",
    "else:\n",
    "    x = -b / a\n",
    "    print(\"x: \", x)\n"
   ]
  },
  {
   "cell_type": "code",
   "execution_count": null,
   "metadata": {},
   "outputs": [
    {
     "name": "stdout",
     "output_type": "stream",
     "text": [
      "3 lower 10\n"
     ]
    }
   ],
   "source": [
    "a = int(input(\"enter a value: \").capitalize())\n",
    "\n",
    "if a == 10:\n",
    "    print(a, \" equal 10\")\n",
    "\n",
    "if a > 5:\n",
    "    print(a, \" higher 5\")\n",
    "elif a < 10:\n",
    "    print(a, \"lower 10\")\n",
    "else:\n",
    "    print(\"someting else\")"
   ]
  },
  {
   "cell_type": "code",
   "execution_count": 33,
   "metadata": {},
   "outputs": [
    {
     "name": "stdout",
     "output_type": "stream",
     "text": [
      "a = 2 & b = 3\n",
      "a = 2 or b = 3\n",
      "something wrong\n"
     ]
    }
   ],
   "source": [
    "a, b = 2, 3\n",
    "if a == 2 and b == 3:   # and \n",
    "    print(\"a = 2 & b = 3\")\n",
    "else:\n",
    "    print(\"something wrong\")\n",
    "\n",
    "if a == 2 or b == 3:   # or \n",
    "    print(\"a = 2 or b = 3\")\n",
    "else:\n",
    "    print(\"something wrong\")\n",
    "\n",
    "if (a == 2) ^ (b == 3):   # xor \n",
    "    print(\"a = 2 xor b = 3\")\n",
    "else:\n",
    "    print(\"something wrong\")"
   ]
  },
  {
   "cell_type": "markdown",
   "metadata": {},
   "source": [
    "-   | -  | and | or | xor \n",
    "----|---|-----|----|-----\n",
    "true|false|   false  |  true     | true\n",
    "false|true|  false   |   true    |true\n",
    "true|true|   true  |    true   |false\n",
    "false|false|  false   |    false   |false"
   ]
  },
  {
   "cell_type": "markdown",
   "metadata": {},
   "source": [
    "> Exercice\n",
    ">> write a program to solve second degree equation\n",
    "$$A^2 + Bx + C = 0$$\n",
    "\n",
    "calc delta: $$Δ = B^2 - 4AC$$"
   ]
  },
  {
   "cell_type": "code",
   "execution_count": 2,
   "metadata": {},
   "outputs": [
    {
     "name": "stdout",
     "output_type": "stream",
     "text": [
      "x1 =  -11.196152422706632 ; x2 =  -0.803847577293368\n"
     ]
    }
   ],
   "source": [
    "import math\n",
    "\n",
    "a = int(input(\"enter A value: \").capitalize())\n",
    "b = int(input(\"enter B value: \").capitalize())\n",
    "c = int(input(\"enter C value: \").capitalize())\n",
    "\n",
    "delta = math.pow(b, 2) - (4 * a * c)\n",
    "\n",
    "if delta < 0:\n",
    "    print(\"without solution\")\n",
    "elif delta == 0:\n",
    "    print(\"x = \", -b / 2 * a)\n",
    "else:\n",
    "    x1 = -b - math.sqrt(delta) / 2 * a\n",
    "    x2 = -b + math.sqrt(delta) / 2 * a\n",
    "    print(\"x1 = \", x1, \"; \" \"x2 = \", x2)\n"
   ]
  },
  {
   "cell_type": "markdown",
   "metadata": {},
   "source": [
    "> operateur ternaire\n",
    ">> temp = (false, true)[condition]"
   ]
  },
  {
   "cell_type": "code",
   "execution_count": 13,
   "metadata": {},
   "outputs": [
    {
     "name": "stdout",
     "output_type": "stream",
     "text": [
      "result:  4\n"
     ]
    }
   ],
   "source": [
    "a, b = 4, 0\n",
    "\n",
    "# c = (a / b, a + b)[b != 0]\n",
    "c = a / b if b != 0 else a + b\n",
    "\n",
    "print(\"result: \", c)\n"
   ]
  }
 ],
 "metadata": {
  "kernelspec": {
   "display_name": "Python 3.10.4 64-bit",
   "language": "python",
   "name": "python3"
  },
  "language_info": {
   "codemirror_mode": {
    "name": "ipython",
    "version": 3
   },
   "file_extension": ".py",
   "mimetype": "text/x-python",
   "name": "python",
   "nbconvert_exporter": "python",
   "pygments_lexer": "ipython3",
   "version": "3.10.4"
  },
  "orig_nbformat": 4,
  "vscode": {
   "interpreter": {
    "hash": "1aaa4c0a7ae47a6be27a008c8243a275ca16fe34808101a702ca972a1e462bee"
   }
  }
 },
 "nbformat": 4,
 "nbformat_minor": 2
}
