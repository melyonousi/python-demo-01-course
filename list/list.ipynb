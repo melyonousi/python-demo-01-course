{
 "cells": [
  {
   "cell_type": "markdown",
   "metadata": {},
   "source": [
    "> lists"
   ]
  },
  {
   "cell_type": "code",
   "execution_count": 45,
   "metadata": {},
   "outputs": [
    {
     "name": "stdout",
     "output_type": "stream",
     "text": [
      "['girafe', 'tigre', 'singe', 'mouse']\n",
      "singe\n",
      "4\n",
      "<class 'list'>\n"
     ]
    }
   ],
   "source": [
    "animals = [\"girafe\", \"tigre\", \"singe\", \"mouse\"]\n",
    "\n",
    "print(animals) # all items\n",
    "print(animals[2]) # by index\n",
    "print(len(animals)) # lenght of list\n",
    "print(type(animals)) # check type"
   ]
  },
  {
   "cell_type": "code",
   "execution_count": 46,
   "metadata": {},
   "outputs": [
    {
     "name": "stdout",
     "output_type": "stream",
     "text": [
      "<class 'list'>\n"
     ]
    }
   ],
   "source": [
    "lst = list()\n",
    "print(type(lst)) # check type"
   ]
  },
  {
   "cell_type": "code",
   "execution_count": 47,
   "metadata": {},
   "outputs": [
    {
     "name": "stdout",
     "output_type": "stream",
     "text": [
      "<class 'list'>\n"
     ]
    }
   ],
   "source": [
    "lst = []\n",
    "print(type(lst)) # check type"
   ]
  },
  {
   "cell_type": "code",
   "execution_count": 48,
   "metadata": {},
   "outputs": [
    {
     "name": "stdout",
     "output_type": "stream",
     "text": [
      "girafe\n",
      "tigre\n",
      "mouse\n",
      "['tigre', ['singe', 'cat']]\n",
      "cat\n"
     ]
    }
   ],
   "source": [
    "animals = [\"girafe\", \"tigre\", [\"singe\", \"cat\"], \"mouse\"]\n",
    "\n",
    "print(animals[0])\n",
    "print(animals[1])\n",
    "print(animals[3])\n",
    "print(animals[1:3])\n",
    "print(animals[2][1])"
   ]
  },
  {
   "cell_type": "code",
   "execution_count": 49,
   "metadata": {},
   "outputs": [
    {
     "name": "stdout",
     "output_type": "stream",
     "text": [
      "['girafe', 'tigre', ['dog', 'cat'], 'mouse']\n"
     ]
    }
   ],
   "source": [
    "animals = [\"girafe\", \"tigre\", [\"singe\", \"cat\"], \"mouse\"]\n",
    "animals[2][0] = \"dog\" # replace\n",
    "\n",
    "print(animals)"
   ]
  },
  {
   "cell_type": "code",
   "execution_count": 50,
   "metadata": {},
   "outputs": [
    {
     "name": "stdout",
     "output_type": "stream",
     "text": [
      "['girafe', 'tigre', ['singe', 'cat', 'dog'], 'mouse']\n"
     ]
    }
   ],
   "source": [
    "animals = [\"girafe\", \"tigre\", [\"singe\", \"cat\"], \"mouse\"]\n",
    "animals[2].append(\"dog\") # add in the end of list\n",
    "\n",
    "print(animals)"
   ]
  },
  {
   "cell_type": "code",
   "execution_count": 51,
   "metadata": {},
   "outputs": [
    {
     "name": "stdout",
     "output_type": "stream",
     "text": [
      "['girafe', 'tigre']\n"
     ]
    }
   ],
   "source": [
    "animals = [\"girafe\", \"tigre\", [\"singe\", \"cat\"], \"mouse\"]\n",
    "animals[2].remove(\"singe\")\n",
    "del animals[2][0]\n",
    "animals.pop()\n",
    "animals.pop(2)\n",
    "print(animals)"
   ]
  },
  {
   "cell_type": "code",
   "execution_count": 52,
   "metadata": {},
   "outputs": [
    {
     "name": "stdout",
     "output_type": "stream",
     "text": [
      "['girafe', 'tigre', ['dog', 'singe', 'cat'], 'mouse']\n"
     ]
    }
   ],
   "source": [
    "animals = [\"girafe\", \"tigre\", [\"singe\", \"cat\"], \"mouse\"]\n",
    "animals[2].insert(0, \"dog\")\n",
    "print(animals)"
   ]
  },
  {
   "cell_type": "code",
   "execution_count": 53,
   "metadata": {},
   "outputs": [
    {
     "name": "stdout",
     "output_type": "stream",
     "text": [
      "['mouse', ['singe', 'cat'], 'tigre', 'girafe']\n"
     ]
    }
   ],
   "source": [
    "animals = [\"girafe\", \"tigre\", [\"singe\", \"cat\"], \"mouse\"]\n",
    "animals.reverse()\n",
    "print(animals)"
   ]
  },
  {
   "cell_type": "code",
   "execution_count": 54,
   "metadata": {},
   "outputs": [
    {
     "name": "stdout",
     "output_type": "stream",
     "text": [
      "4\n"
     ]
    }
   ],
   "source": [
    "animals = [\"girafe\", \"tigre\", [\"singe\", \"cat\"], \"mouse\"]\n",
    "print(len(animals))"
   ]
  },
  {
   "cell_type": "code",
   "execution_count": 55,
   "metadata": {},
   "outputs": [
    {
     "name": "stdout",
     "output_type": "stream",
     "text": [
      "girafe\n",
      "tigre\n",
      "['singe', 'cat']\n",
      "mouse\n"
     ]
    }
   ],
   "source": [
    "animals = [\"girafe\", \"tigre\", [\"singe\", \"cat\"], \"mouse\"]\n",
    "\n",
    "for i in range(len(animals)):\n",
    "    print(animals[i])\n"
   ]
  },
  {
   "cell_type": "code",
   "execution_count": 57,
   "metadata": {},
   "outputs": [
    {
     "name": "stdout",
     "output_type": "stream",
     "text": [
      "girafe\n",
      "tigre\n",
      "['singe', 'cat']\n",
      "mouse\n"
     ]
    }
   ],
   "source": [
    "animals = [\"girafe\", \"tigre\", [\"singe\", \"cat\"], \"mouse\"]\n",
    "\n",
    "for animal in animals:\n",
    "    print(animal)"
   ]
  },
  {
   "cell_type": "code",
   "execution_count": 58,
   "metadata": {},
   "outputs": [
    {
     "name": "stdout",
     "output_type": "stream",
     "text": [
      "(0, 'girafe')\n",
      "(1, 'tigre')\n",
      "(2, ['singe', 'cat'])\n",
      "(3, 'mouse')\n"
     ]
    }
   ],
   "source": [
    "animals = [\"girafe\", \"tigre\", [\"singe\", \"cat\"], \"mouse\"]\n",
    "\n",
    "for animal in enumerate(animals):\n",
    "    print(animal)"
   ]
  },
  {
   "cell_type": "code",
   "execution_count": 6,
   "metadata": {},
   "outputs": [
    {
     "name": "stdout",
     "output_type": "stream",
     "text": [
      "1\n"
     ]
    }
   ],
   "source": [
    "animals = [\"girafe\", \"tigre\", [\"singe\", \"cat\"], \"mouse\"]\n",
    "\n",
    "print(animals[2].count(\"cat\"))\n"
   ]
  },
  {
   "cell_type": "code",
   "execution_count": 5,
   "metadata": {},
   "outputs": [
    {
     "name": "stdout",
     "output_type": "stream",
     "text": [
      "['girafe', 'tigre', 'singe', 'cat', 'mouse']\n"
     ]
    }
   ],
   "source": [
    "animals = \"girafe,tigre,singe,cat,mouse\"\n",
    "s_animals = animals.split(\",\")\n",
    "\n",
    "print(s_animals)"
   ]
  },
  {
   "cell_type": "code",
   "execution_count": 1,
   "metadata": {},
   "outputs": [
    {
     "name": "stdout",
     "output_type": "stream",
     "text": [
      "tigre exist in animals\n"
     ]
    }
   ],
   "source": [
    "animals = [\"girafe\", \"tigre\", [\"singe\", \"cat\"], \"mouse\"]\n",
    "search_key = input(\"Search: \")\n",
    "\n",
    "if search_key in animals:\n",
    "    print(search_key, \"exist in animals\")\n",
    "else:\n",
    "    print(search_key, \"not exist in animals\")\n"
   ]
  },
  {
   "cell_type": "code",
   "execution_count": 6,
   "metadata": {},
   "outputs": [
    {
     "name": "stdout",
     "output_type": "stream",
     "text": [
      "['girafe', 'tigre', ['singe', 'cat'], 'mouse', 'haha', 'houw', ['sitsit', 'myaw'], 'testes']\n",
      "['girafe', 'tigre', ['singe', 'cat'], 'mouse', 'girafe', 'tigre', ['singe', 'cat'], 'mouse', 'girafe', 'tigre', ['singe', 'cat'], 'mouse']\n"
     ]
    }
   ],
   "source": [
    "animals = [\"girafe\", \"tigre\", [\"singe\", \"cat\"], \"mouse\"]\n",
    "voice = [\"haha\", \"houw\", [\"sitsit\", \"myaw\"], \"testes\"]\n",
    "merge = animals + voice\n",
    "\n",
    "temp = animals * 3\n",
    "\n",
    "print(merge)\n",
    "print(temp)\n"
   ]
  },
  {
   "cell_type": "code",
   "execution_count": 8,
   "metadata": {},
   "outputs": [
    {
     "name": "stdout",
     "output_type": "stream",
     "text": [
      "mouse\n",
      "['singe', 'cat']\n"
     ]
    }
   ],
   "source": [
    "animals = [\"girafe\", \"tigre\", [\"singe\", \"cat\"], \"mouse\"]\n",
    "\n",
    "print(animals[-1])\n",
    "print(animals[-2])"
   ]
  },
  {
   "cell_type": "code",
   "execution_count": 17,
   "metadata": {},
   "outputs": [
    {
     "name": "stdout",
     "output_type": "stream",
     "text": [
      "[0, 1, 2, 3, 4, 5, 6, 7, 8, 9]\n",
      "[0, -1, -2, -3, -4, -5, -6, -7, -8, -9]\n"
     ]
    }
   ],
   "source": [
    "pos_numbers = list(range(10))\n",
    "neg_numbers = list(range(0,-10,-1))\n",
    "\n",
    "print(pos_numbers)\n",
    "print(neg_numbers)"
   ]
  },
  {
   "cell_type": "code",
   "execution_count": 22,
   "metadata": {},
   "outputs": [
    {
     "name": "stdout",
     "output_type": "stream",
     "text": [
      "[10, 9, 8, 7, 6, 5, 4, 3, 2, 1]\n",
      "min:  1\n",
      "max:  10\n",
      "sum:  55\n"
     ]
    }
   ],
   "source": [
    "numbers = list(range(10, 0, -1))\n",
    "\n",
    "print(numbers)\n",
    "print(\"min: \", min(numbers))\n",
    "print(\"max: \", max(numbers))\n",
    "print(\"sum: \", sum(numbers))"
   ]
  },
  {
   "cell_type": "code",
   "execution_count": 24,
   "metadata": {},
   "outputs": [
    {
     "name": "stdout",
     "output_type": "stream",
     "text": [
      "[1, 3, 4, 5, 5, 5, 8, 8, 8, 8, 9, 9, 65]\n"
     ]
    }
   ],
   "source": [
    "numbers = [5,8,4,9,5,65,9,8,8,1,3,5,8]\n",
    "numbers.sort()\n",
    "print(numbers)"
   ]
  },
  {
   "cell_type": "code",
   "execution_count": 26,
   "metadata": {},
   "outputs": [
    {
     "name": "stdout",
     "output_type": "stream",
     "text": [
      "[65, 9, 9, 8, 8, 8, 8, 5, 5, 5, 4, 3, 1]\n"
     ]
    }
   ],
   "source": [
    "numbers = [5,8,4,9,5,65,9,8,8,1,3,5,8]\n",
    "numbers.sort(reverse=True)\n",
    "print(numbers)"
   ]
  },
  {
   "cell_type": "code",
   "execution_count": null,
   "metadata": {},
   "outputs": [],
   "source": [
    "numbers = [5,8,4,9,5,65,9,8,8,1,3,5,8]\n",
    "numbers.sort()\n",
    "print(numbers)"
   ]
  },
  {
   "cell_type": "code",
   "execution_count": 40,
   "metadata": {},
   "outputs": [
    {
     "name": "stdout",
     "output_type": "stream",
     "text": [
      "['mouse', 'tigre', 'girafe', 'dunky', ['singe', 'cat']]\n"
     ]
    }
   ],
   "source": [
    "import random\n",
    "\n",
    "animals = [\"girafe\", \"tigre\", \"dunky\", [\"singe\", \"cat\"], \"mouse\"]\n",
    "random.shuffle(animals)\n",
    "\n",
    "print(animals)"
   ]
  },
  {
   "cell_type": "code",
   "execution_count": 44,
   "metadata": {},
   "outputs": [
    {
     "name": "stdout",
     "output_type": "stream",
     "text": [
      "['girafe']\n",
      "[['singe', 'cat']]\n",
      "['dunky', ['singe', 'cat']]\n",
      "['girafe', 'tigre', 'dunky', ['singe', 'cat'], 'mouse']\n",
      "['tigre', 'dunky', ['singe', 'cat'], 'mouse']\n",
      "['girafe', 'tigre', 'dunky', ['singe', 'cat']]\n"
     ]
    }
   ],
   "source": [
    "animals = [\"girafe\", \"tigre\", \"dunky\", [\"singe\", \"cat\"], \"mouse\"]\n",
    "\n",
    "print(animals[0:1])\n",
    "print(animals[3:-1])\n",
    "print(animals[2:-1])\n",
    "print(animals[:])\n",
    "print(animals[1:])\n",
    "print(animals[:-1])"
   ]
  },
  {
   "cell_type": "code",
   "execution_count": 48,
   "metadata": {},
   "outputs": [
    {
     "name": "stdout",
     "output_type": "stream",
     "text": [
      "girafe\n",
      "tigre\n",
      "dunky\n",
      "['singe', 'cat']\n",
      "mouse\n",
      "<class 'list'>\n"
     ]
    }
   ],
   "source": [
    "animals = [\"girafe\", \"tigre\", \"dunky\", [\"singe\", \"cat\"], \"mouse\"]\n",
    "\n",
    "for animal in animals:\n",
    "    print(animal)\n",
    "\n",
    "print(type(animals))"
   ]
  }
 ],
 "metadata": {
  "kernelspec": {
   "display_name": "Python 3.10.4 64-bit",
   "language": "python",
   "name": "python3"
  },
  "language_info": {
   "codemirror_mode": {
    "name": "ipython",
    "version": 3
   },
   "file_extension": ".py",
   "mimetype": "text/x-python",
   "name": "python",
   "nbconvert_exporter": "python",
   "pygments_lexer": "ipython3",
   "version": "3.10.4"
  },
  "orig_nbformat": 4,
  "vscode": {
   "interpreter": {
    "hash": "1aaa4c0a7ae47a6be27a008c8243a275ca16fe34808101a702ca972a1e462bee"
   }
  }
 },
 "nbformat": 4,
 "nbformat_minor": 2
}
