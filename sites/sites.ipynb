{
  "metadata": {
    "language_info": {
      "codemirror_mode": {
        "name": "python",
        "version": 3
      },
      "file_extension": ".py",
      "mimetype": "text/x-python",
      "name": "python",
      "nbconvert_exporter": "python",
      "pygments_lexer": "ipython3",
      "version": "3.8"
    },
    "kernelspec": {
      "name": "python",
      "display_name": "Pyolite",
      "language": "python"
    }
  },
  "nbformat_minor": 4,
  "nbformat": 4,
  "cells": [
    {
      "cell_type": "markdown",
      "source": "## Set\nSets are used to store multiple items in a single variable.\nSet is one of 4 built-in data types in Python used to store collections of data, the other 3 are List, Tuple, and Dictionary, all with different qualities and usage.\nA set is a collection which is unordered, unchangeable*, and unindexed.\n* Note: Set items are unchangeable, but you can remove items and add new items.\n* Sets are written with curly brackets.",
      "metadata": {}
    },
    {
      "cell_type": "code",
      "source": "mySet = {\"A\", \"B\", \"C\"}\n\nmySet.add(\"D\")\n\nprint(mySet)\n\n# print(mySet[0]) can't do that here\n  ",
      "metadata": {
        "trusted": true
      },
      "execution_count": 5,
      "outputs": [
        {
          "name": "stdout",
          "text": "{'A', 'B', 'C', 'D'}\n",
          "output_type": "stream"
        }
      ]
    },
    {
      "cell_type": "code",
      "source": "mySet = {\"A\", \"B\", \"C\"}\nmySet.update([\"D\", \"E\", \"F\"])\nprint(mySet)",
      "metadata": {
        "trusted": true
      },
      "execution_count": 6,
      "outputs": [
        {
          "name": "stdout",
          "text": "{'A', 'B', 'C', 'D', 'E', 'F'}\n",
          "output_type": "stream"
        }
      ]
    },
    {
      "cell_type": "code",
      "source": "mySet = {\"A\", \"B\", \"C\"}\n\nprint(\"G\" in mySet)\n\nif \"b\".upper() in mySet:\n    print(\"b exist\")\nelse:\n    print(\"b not exist\")",
      "metadata": {
        "trusted": true
      },
      "execution_count": 13,
      "outputs": [
        {
          "name": "stdout",
          "text": "False\nb exist\n",
          "output_type": "stream"
        }
      ]
    },
    {
      "cell_type": "code",
      "source": "mySet = {\"A\", \"B\", \"C\"}\n\nfor i in mySet:\n    print(i, end=\",\")",
      "metadata": {
        "trusted": true
      },
      "execution_count": 17,
      "outputs": [
        {
          "name": "stdout",
          "text": "A,B,C,",
          "output_type": "stream"
        }
      ]
    },
    {
      "cell_type": "code",
      "source": "mySet = {\"A\", \"B\", \"C\"}\n\nprint(len(mySet))",
      "metadata": {
        "trusted": true
      },
      "execution_count": 18,
      "outputs": [
        {
          "name": "stdout",
          "text": "3\n",
          "output_type": "stream"
        }
      ]
    },
    {
      "cell_type": "markdown",
      "source": "when remove item not exist, will block",
      "metadata": {}
    },
    {
      "cell_type": "code",
      "source": "mySet = {\"A\", \"B\", \"C\"}\n\nmySet.remove(\"b\".upper())\nprint(mySet)",
      "metadata": {
        "trusted": true
      },
      "execution_count": 21,
      "outputs": [
        {
          "name": "stdout",
          "text": "{'A', 'C'}\n",
          "output_type": "stream"
        }
      ]
    },
    {
      "cell_type": "markdown",
      "source": "when remove item not exist, easy life",
      "metadata": {}
    },
    {
      "cell_type": "code",
      "source": "mySet = {\"A\", \"B\", \"C\"}\n\nmySet.discard(\"G\".upper())\nprint(mySet)",
      "metadata": {
        "trusted": true
      },
      "execution_count": 26,
      "outputs": [
        {
          "name": "stdout",
          "text": "{'A', 'B', 'C'}\n",
          "output_type": "stream"
        }
      ]
    },
    {
      "cell_type": "code",
      "source": "mySet = {\"A\", \"B\", \"C\"}\nx = mySet.pop()\n\nprint(x)\nprint(mySet)",
      "metadata": {
        "trusted": true
      },
      "execution_count": 28,
      "outputs": [
        {
          "name": "stdout",
          "text": "A\n{'B', 'C'}\n",
          "output_type": "stream"
        }
      ]
    },
    {
      "cell_type": "code",
      "source": "mySet = {\"A\", \"B\", \"C\"}\nmySet.clear()\nprint(mySet)",
      "metadata": {
        "trusted": true
      },
      "execution_count": 29,
      "outputs": [
        {
          "name": "stdout",
          "text": "set()\n",
          "output_type": "stream"
        }
      ]
    },
    {
      "cell_type": "code",
      "source": "mySet = {\"A\", \"B\", \"C\"}\ndel mySet[\"A\"]\nprint(mySet)",
      "metadata": {
        "trusted": true
      },
      "execution_count": 30,
      "outputs": [
        {
          "ename": "<class 'TypeError'>",
          "evalue": "'set' object does not support item deletion",
          "traceback": [
            "\u001b[0;31m---------------------------------------------------------------------------\u001b[0m",
            "\u001b[0;31mTypeError\u001b[0m                                 Traceback (most recent call last)",
            "Input \u001b[0;32mIn [30]\u001b[0m, in \u001b[0;36m<cell line: 2>\u001b[0;34m()\u001b[0m\n\u001b[1;32m      1\u001b[0m mySet \u001b[38;5;241m=\u001b[39m {\u001b[38;5;124m\"\u001b[39m\u001b[38;5;124mA\u001b[39m\u001b[38;5;124m\"\u001b[39m, \u001b[38;5;124m\"\u001b[39m\u001b[38;5;124mB\u001b[39m\u001b[38;5;124m\"\u001b[39m, \u001b[38;5;124m\"\u001b[39m\u001b[38;5;124mC\u001b[39m\u001b[38;5;124m\"\u001b[39m}\n\u001b[0;32m----> 2\u001b[0m \u001b[38;5;28;01mdel\u001b[39;00m mySet[\u001b[38;5;124m\"\u001b[39m\u001b[38;5;124mA\u001b[39m\u001b[38;5;124m\"\u001b[39m]\n\u001b[1;32m      3\u001b[0m \u001b[38;5;28mprint\u001b[39m(mySet)\n",
            "\u001b[0;31mTypeError\u001b[0m: 'set' object does not support item deletion"
          ],
          "output_type": "error"
        }
      ]
    }
  ]
}