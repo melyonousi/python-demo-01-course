{
  "metadata": {
    "language_info": {
      "codemirror_mode": {
        "name": "python",
        "version": 3
      },
      "file_extension": ".py",
      "mimetype": "text/x-python",
      "name": "python",
      "nbconvert_exporter": "python",
      "pygments_lexer": "ipython3",
      "version": "3.8"
    },
    "kernelspec": {
      "name": "python",
      "display_name": "Pyolite",
      "language": "python"
    }
  },
  "nbformat_minor": 4,
  "nbformat": 4,
  "cells": [
    {
      "cell_type": "markdown",
      "source": "# loops",
      "metadata": {}
    },
    {
      "cell_type": "code",
      "source": "# bad method\nprint(\"manuel\")\n\nprint(\"i to a value\", 0)\nprint(\"i to a value\", 1)\nprint(\"i to a value\", 2)\nprint(\"i to a value\", 3)\nprint(\"i to a value\", 4)\n\n# pro method\nprint(\"\\n\\ndynamic:\")\n\nfor i in range(5):\n    print(\"i to a value\", i)",
      "metadata": {
        "trusted": true
      },
      "execution_count": 14,
      "outputs": [
        {
          "name": "stdout",
          "text": "manuel\ni to a value 0\ni to a value 1\ni to a value 2\ni to a value 3\ni to a value 4\n\n\ndynamic:\ni to a value 0\ni to a value 1\ni to a value 2\ni to a value 3\ni to a value 4\n",
          "output_type": "stream"
        }
      ]
    },
    {
      "cell_type": "markdown",
      "source": "# `for loop`",
      "metadata": {}
    },
    {
      "cell_type": "code",
      "source": "for i in [0, \"Monday\", 2, \"A\", 2.5]:\n    print(i, end=\", \")",
      "metadata": {
        "trusted": true
      },
      "execution_count": 17,
      "outputs": [
        {
          "name": "stdout",
          "text": "0, Monday, 2, A, 2.5, ",
          "output_type": "stream"
        }
      ]
    },
    {
      "cell_type": "code",
      "source": "for i in [\"Monday\", \"Tuesday\", \"Wednesday\", \"Thursday\", \"Friday\", \"Saturday\", \"Sunday\"]:\n    print(i, end=\", \")",
      "metadata": {
        "trusted": true
      },
      "execution_count": 18,
      "outputs": [
        {
          "name": "stdout",
          "text": "Monday, Tuesday, Wednesday, Thursday, Friday, Saturday, Sunday, ",
          "output_type": "stream"
        }
      ]
    },
    {
      "cell_type": "code",
      "source": "for i in [\"Monday\", \"Tuesday\", \"Wednesday\", \"Thursday\", \"Friday\", \"Saturday\", \"Sunday\"]:\n    print(\"Start a loop: i = \", i)\n    if i == \"Friday\":\n        break\n    print(\"End a loop: i = \", i)\nprint(\"vacancy\")\n    ",
      "metadata": {
        "trusted": true
      },
      "execution_count": 21,
      "outputs": [
        {
          "name": "stdout",
          "text": "Start a loop: i =  Monday\nEnd a loop: i =  Monday\nStart a loop: i =  Tuesday\nEnd a loop: i =  Tuesday\nStart a loop: i =  Wednesday\nEnd a loop: i =  Wednesday\nStart a loop: i =  Thursday\nEnd a loop: i =  Thursday\nStart a loop: i =  Friday\nvacancy\n",
          "output_type": "stream"
        }
      ]
    },
    {
      "cell_type": "code",
      "source": "for i in [\"Monday\", \"Tuesday\", \"Wednesday\", \"Thursday\", \"Friday\", \"Saturday\", \"Sunday\"]:\n    print(\"Start a loop: i = \", i)\n    if i == \"Saturday\" or i == \"Sunday\":\n        continue\n    print(\"End a loop: i = \", i)\nprint(\"vacancy\")",
      "metadata": {
        "trusted": true
      },
      "execution_count": 22,
      "outputs": [
        {
          "name": "stdout",
          "text": "Start a loop: i =  Monday\nEnd a loop: i =  Monday\nStart a loop: i =  Tuesday\nEnd a loop: i =  Tuesday\nStart a loop: i =  Wednesday\nEnd a loop: i =  Wednesday\nStart a loop: i =  Thursday\nEnd a loop: i =  Thursday\nStart a loop: i =  Friday\nEnd a loop: i =  Friday\nStart a loop: i =  Saturday\nStart a loop: i =  Sunday\nvacancy\n",
          "output_type": "stream"
        }
      ]
    },
    {
      "cell_type": "code",
      "source": "for n in range(2, 8):\n    for x in range(2, n):\n        if n % x == 0:\n            print(n, \"equal\", x, \"*\", n / x)\n            break\n        else:\n            print(n, \"is prime numbers\")",
      "metadata": {
        "trusted": true
      },
      "execution_count": 2,
      "outputs": [
        {
          "name": "stdout",
          "text": "3 is prime numbers\n4 equal 2 * 2.0\n5 is prime numbers\n5 is prime numbers\n5 is prime numbers\n6 equal 2 * 3.0\n7 is prime numbers\n7 is prime numbers\n7 is prime numbers\n7 is prime numbers\n7 is prime numbers\n",
          "output_type": "stream"
        }
      ]
    },
    {
      "cell_type": "code",
      "source": "print(\"▼ root-project\")\nfor i in range(2):\n    print(\"|\\t▼--- some other folder i\", i)\n    for j in range(3):\n        print(\"|\\t|\\t▼--- some other folder j\", j)\n        for d in range(2):\n            print(\"|\\t|\\t|\\t--- some other folder d\", d)\n",
      "metadata": {
        "trusted": true
      },
      "execution_count": 70,
      "outputs": [
        {
          "name": "stdout",
          "text": "▼ root-project\n|\t▼--- some other folder i 0\n|\t|\t▼--- some other folder j 0\n|\t|\t|\t--- some other folder d 0\n|\t|\t|\t--- some other folder d 1\n|\t|\t▼--- some other folder j 1\n|\t|\t|\t--- some other folder d 0\n|\t|\t|\t--- some other folder d 1\n|\t|\t▼--- some other folder j 2\n|\t|\t|\t--- some other folder d 0\n|\t|\t|\t--- some other folder d 1\n|\t▼--- some other folder i 1\n|\t|\t▼--- some other folder j 0\n|\t|\t|\t--- some other folder d 0\n|\t|\t|\t--- some other folder d 1\n|\t|\t▼--- some other folder j 1\n|\t|\t|\t--- some other folder d 0\n|\t|\t|\t--- some other folder d 1\n|\t|\t▼--- some other folder j 2\n|\t|\t|\t--- some other folder d 0\n|\t|\t|\t--- some other folder d 1\n",
          "output_type": "stream"
        }
      ]
    },
    {
      "cell_type": "markdown",
      "source": "# `while loop`",
      "metadata": {
        "tags": []
      }
    },
    {
      "cell_type": "code",
      "source": "x = 1\nprint(\"▼ start\")\nwhile x < 10:\n    print(\"  ▼ x is value\", x)\n    x *= 2\n\nprint(\"end\")",
      "metadata": {
        "trusted": true
      },
      "execution_count": 19,
      "outputs": [
        {
          "name": "stdout",
          "text": "▼ start\n  ▼ x is value 1\n  ▼ x is value 2\n  ▼ x is value 4\n  ▼ x is value 8\nend\n",
          "output_type": "stream"
        }
      ]
    },
    {
      "cell_type": "code",
      "source": "while True:\n    n = int(input(\"Enter a number > 0: \"))\n    print(\"you provided\", n)\n    if n > 0:\n        break\nprint(\"success\")",
      "metadata": {
        "trusted": true
      },
      "execution_count": 75,
      "outputs": [
        {
          "name": "stderr",
          "text": "Future exception was never retrieved\nfuture: <Future finished exception=JsException(TypeError: Cannot read properties of null (reading 'sendInputRequest'))>\n",
          "output_type": "stream"
        },
        {
          "ename": "<class 'TypeError'>",
          "evalue": "int() argument must be a string, a bytes-like object or a real number, not 'Future'",
          "traceback": [
            "\u001b[0;31m---------------------------------------------------------------------------\u001b[0m",
            "\u001b[0;31mTypeError\u001b[0m                                 Traceback (most recent call last)",
            "Input \u001b[0;32mIn [75]\u001b[0m, in \u001b[0;36m<cell line: 1>\u001b[0;34m()\u001b[0m\n\u001b[1;32m      1\u001b[0m \u001b[38;5;28;01mwhile\u001b[39;00m \u001b[38;5;28;01mTrue\u001b[39;00m:\n\u001b[0;32m----> 2\u001b[0m     n \u001b[38;5;241m=\u001b[39m \u001b[38;5;28;43mint\u001b[39;49m\u001b[43m(\u001b[49m\u001b[38;5;28;43minput\u001b[39;49m\u001b[43m(\u001b[49m\u001b[38;5;124;43m\"\u001b[39;49m\u001b[38;5;124;43mEnter a number > 0: \u001b[39;49m\u001b[38;5;124;43m\"\u001b[39;49m\u001b[43m)\u001b[49m\u001b[43m)\u001b[49m\n\u001b[1;32m      3\u001b[0m     \u001b[38;5;28mprint\u001b[39m(\u001b[38;5;124m\"\u001b[39m\u001b[38;5;124myou provided\u001b[39m\u001b[38;5;124m\"\u001b[39m, n)\n\u001b[1;32m      4\u001b[0m     \u001b[38;5;28;01mif\u001b[39;00m n \u001b[38;5;241m>\u001b[39m \u001b[38;5;241m0\u001b[39m:\n",
            "\u001b[0;31mTypeError\u001b[0m: int() argument must be a string, a bytes-like object or a real number, not 'Future'"
          ],
          "output_type": "error"
        }
      ]
    },
    {
      "cell_type": "code",
      "source": "i = 0\nwhile i < 10:\n    print(\"linge\", i)\n    i += 1\nelse:\n    print(\"loop end\")",
      "metadata": {
        "trusted": true
      },
      "execution_count": 78,
      "outputs": [
        {
          "name": "stdout",
          "text": "linge 0\nlinge 1\nlinge 2\nlinge 3\nlinge 4\nlinge 5\nlinge 6\nlinge 7\nlinge 8\nlinge 9\nloop end\n",
          "output_type": "stream"
        }
      ]
    }
  ]
}