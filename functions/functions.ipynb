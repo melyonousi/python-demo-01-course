{
  "metadata": {
    "language_info": {
      "codemirror_mode": {
        "name": "python",
        "version": 3
      },
      "file_extension": ".py",
      "mimetype": "text/x-python",
      "name": "python",
      "nbconvert_exporter": "python",
      "pygments_lexer": "ipython3",
      "version": "3.8"
    },
    "kernelspec": {
      "name": "python",
      "display_name": "Python (Pyodide)",
      "language": "python"
    }
  },
  "nbformat_minor": 4,
  "nbformat": 4,
  "cells": [
    {
      "cell_type": "markdown",
      "source": "# `Functions`",
      "metadata": {}
    },
    {
      "cell_type": "code",
      "source": "print(\"hello Mohamed\")\nprint(\"you have a meeting at 10 AM\")\n\nprint(\"hello Walid\")\nprint(\"you have a meeting at 10 AM\")\n\nprint(\"hello Khalid\")\nprint(\"you have a meeting at 10 AM\")",
      "metadata": {
        "trusted": true
      },
      "execution_count": null,
      "outputs": []
    },
    {
      "cell_type": "code",
      "source": "def sayHi(name, hour, format = \"AM\"):\n    print(f\"hello {name} \\nyou have a meeting {hour} {format} \\nThank you {name}\\n\\n\")\n    \nsayHi(\"Mohamed\", 10)\nsayHi(\"Walid\", 1, \"PM\")\nsayHi(\"Khalid\", 6, \"PM\")",
      "metadata": {
        "trusted": true
      },
      "execution_count": null,
      "outputs": []
    },
    {
      "cell_type": "code",
      "source": "''' function to calc x pow y '''\ndef p_ow(x, y):\n    return x**y\n\nresult = p_ow(5, 2)\n\nprint(result)",
      "metadata": {
        "trusted": true
      },
      "execution_count": null,
      "outputs": []
    },
    {
      "cell_type": "code",
      "source": "students = [\"Mohamed\", \"Warda\", \"Rachida\", \"Monaim\"]\n    \n      \ndef display_list(list, mssg):\n    print(mssg)\n    for lst in list:\n        print(lst)\n        \ndisplay_list(students, \"the student lists\")\n\nstudents.sort(reverse = True)\n\ndisplay_list(students, \"the student lists\")\n\ndisplay_list(mssg = \"the student lists\", list = students)",
      "metadata": {
        "trusted": true
      },
      "execution_count": null,
      "outputs": []
    },
    {
      "cell_type": "code",
      "source": "def present(name, age, city):\n    print(f\"hello {name}, you have {age} years old and you born in {city}.\")\n    \npresent(name = \"Mohamed\", city = \"Chefchaouen\", age = 26)",
      "metadata": {
        "trusted": true
      },
      "execution_count": null,
      "outputs": []
    },
    {
      "cell_type": "code",
      "source": "def sum(*num): # * it's mean tuple\n    sum = 0\n    for i in num:\n        sum += 1\n    return sum\n\ndef multiplication(*num):\n    total = 1\n    for i in num:\n        total *= i\n    return total\n\nprint(sum(5,8,6,1,3))\nprint(multiplication(5,8,6,1,3))",
      "metadata": {
        "trusted": true
      },
      "execution_count": 4,
      "outputs": [
        {
          "name": "stdout",
          "text": "5\n720\n",
          "output_type": "stream"
        }
      ]
    },
    {
      "cell_type": "code",
      "source": "def salutation(**args): # ** it's mean dictionnay\n    print(args[\"firstName\"])    \n    print(args[\"lastName\"])\n    print(args)\n\nsalutation(firstName = \"Mohamed\", lastName = \"EL YONOUSI\")",
      "metadata": {
        "trusted": true
      },
      "execution_count": 9,
      "outputs": [
        {
          "name": "stdout",
          "text": "Mohamed\nEL YONOUSI\n{'firstName': 'Mohamed', 'lastName': 'EL YONOUSI'}\n",
          "output_type": "stream"
        }
      ]
    }
  ]
}